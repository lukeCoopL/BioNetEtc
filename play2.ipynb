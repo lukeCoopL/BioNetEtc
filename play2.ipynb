{
 "cells": [
  {
   "cell_type": "code",
   "execution_count": 3,
   "source": [
    "childDistVec=[]\r\n",
    "scoreVec=[]"
   ],
   "outputs": [],
   "metadata": {}
  },
  {
   "cell_type": "code",
   "execution_count": 4,
   "source": [
    "import networkx as nx\r\n",
    "import numpy as np\r\n",
    "import matplotlib.pyplot as plt\r\n",
    "import gene_functions as gf\r\n",
    "import scipy as sp\r\n",
    "import copy\r\n",
    "from pyvis.network import Network\r\n",
    "from IPython.display import HTML,display\r\n",
    "import pydot\r\n",
    "import graphviz\r\n",
    "from networkx.drawing.nx_pydot import graphviz_layout\r\n",
    "\r\n",
    "k=10\r\n",
    "n=k\r\n",
    "G=nx.DiGraph(nx.scale_free_graph(2))\r\n",
    "G=gf.label_conserver(G)\r\n",
    "qCon=0.5\r\n",
    "qMod = 0.3\r\n",
    "G,G3=gf.network_birth(G,n,n,qCon,qMod)\r\n",
    "\r\n",
    "G_orig=copy.deepcopy(G)\r\n",
    "G1_orig=copy.deepcopy(G)\r\n",
    "G2_orig=copy.deepcopy(G)\r\n",
    "for i in range(0,10):\r\n",
    "    k=10\r\n",
    "    n=k\r\n",
    "    G=nx.DiGraph(nx.scale_free_graph(2))\r\n",
    "    G=gf.label_conserver(G)\r\n",
    "    qCon=0.5\r\n",
    "    qMod = 0.3\r\n",
    "    G,G3=gf.network_birth(G,n,n,qCon,qMod)\r\n",
    "\r\n",
    "    G_orig=copy.deepcopy(G)\r\n",
    "    G1_orig=copy.deepcopy(G)\r\n",
    "    G2_orig=copy.deepcopy(G)\r\n",
    "    for m in range(0,20):\r\n",
    "        n=n+1\r\n",
    "    \r\n",
    "        G1,G1_fake=gf.network_birth(G1_orig,1,1,qCon,qMod,iteration = n)\r\n",
    "        G2,G2_fake=gf.network_birth(G2_orig,1,1,qCon,qMod,iteration = n)\r\n",
    "        G1=gf.label_conserver(G1)\r\n",
    "        G2=gf.label_conserver(G2)\r\n",
    "\r\n",
    "        #nx.draw_circular(G,with_labels=True)\r\n",
    "        G1_orig=copy.deepcopy(G1)\r\n",
    "        G2_orig=copy.deepcopy(G2)\r\n",
    "    \r\n",
    "        G1_forest=gf.duplication_forest(G1_orig,n+1)\r\n",
    "        G2_forest=gf.duplication_forest(G2_orig,n+1)\r\n",
    "    \r\n",
    "\r\n",
    "        originalNCScore=gf.original_networks_NC_score(G1_orig,G2_orig,G1_forest,G2_forest,DMCSteps=n,childDistance=n-k)\r\n",
    "\r\n",
    "        G=nx.convert_node_labels_to_integers(G_orig)\r\n",
    "        G1=nx.convert_node_labels_to_integers(G1_orig)\r\n",
    "        G2=nx.convert_node_labels_to_integers(G2_orig)\r\n",
    "        alignVec,mapped=gf.NF_many_to_one(G1,G2,34,0.8)\r\n",
    "        mapping = dict(alignVec)\r\n",
    "\r\n",
    "        G1_mapped=nx.induced_subgraph(G1,list(mapped))\r\n",
    "        G1_mapped=nx.relabel_nodes(G1_mapped,mapping)\r\n",
    "\r\n",
    "        #print(\"Alignment mapping:\",alignVec)\r\n",
    "\r\n",
    "        modifiedNCScore=gf.NC_scorer(alignVec,mapped,G1,G2,G1_forest,G2_forest,DMCSteps=n,childDistance=n-k)\r\n",
    "        #print(\"Modified NC Score of Alignment\",gf.NC_scorer(alignVec,mapped,G1,G2,G1_forest,G2_forest))\r\n",
    "        #print(\"Original Modified NC Score\",originalNCScore)\r\n",
    "        print(\"Quality of Alignment Based off NC Score\",n-k,\"steps\",1-(originalNCScore-modifiedNCScore)/originalNCScore)\r\n",
    "        scoreVec.append(1-(originalNCScore-modifiedNCScore)/originalNCScore)\r\n",
    "        childDistVec.append(n-k)"
   ],
   "outputs": [
    {
     "output_type": "stream",
     "name": "stdout",
     "text": [
      "Quality of Alignment Based off NC Score 1 steps 0.619217081850534\n",
      "Quality of Alignment Based off NC Score 2 steps 0.6754098360655737\n",
      "Quality of Alignment Based off NC Score 3 steps 0.6204819277108433\n",
      "Quality of Alignment Based off NC Score 4 steps 0.5138121546961327\n",
      "Quality of Alignment Based off NC Score 5 steps 0.3401015228426396\n",
      "Quality of Alignment Based off NC Score 6 steps 0.18309859154929575\n",
      "Quality of Alignment Based off NC Score 7 steps 0.17634408602150542\n",
      "Quality of Alignment Based off NC Score 8 steps 0.12623274161735698\n",
      "Quality of Alignment Based off NC Score 9 steps 0.25\n",
      "Quality of Alignment Based off NC Score 10 steps 0.1166666666666667\n",
      "Quality of Alignment Based off NC Score 11 steps 0.015576323987538832\n"
     ]
    },
    {
     "output_type": "error",
     "ename": "KeyboardInterrupt",
     "evalue": "",
     "traceback": [
      "\u001b[1;31m---------------------------------------------------------------------------\u001b[0m",
      "\u001b[1;31mKeyboardInterrupt\u001b[0m                         Traceback (most recent call last)",
      "\u001b[1;32m~\\AppData\\Local\\Temp/ipykernel_1304/3229213343.py\u001b[0m in \u001b[0;36m<module>\u001b[1;34m\u001b[0m\n\u001b[0;32m     50\u001b[0m \u001b[1;33m\u001b[0m\u001b[0m\n\u001b[0;32m     51\u001b[0m \u001b[1;33m\u001b[0m\u001b[0m\n\u001b[1;32m---> 52\u001b[1;33m         \u001b[0moriginalNCScore\u001b[0m\u001b[1;33m=\u001b[0m\u001b[0mgf\u001b[0m\u001b[1;33m.\u001b[0m\u001b[0moriginal_networks_NC_score\u001b[0m\u001b[1;33m(\u001b[0m\u001b[0mG1_orig\u001b[0m\u001b[1;33m,\u001b[0m\u001b[0mG2_orig\u001b[0m\u001b[1;33m,\u001b[0m\u001b[0mG1_forest\u001b[0m\u001b[1;33m,\u001b[0m\u001b[0mG2_forest\u001b[0m\u001b[1;33m,\u001b[0m\u001b[0mDMCSteps\u001b[0m\u001b[1;33m=\u001b[0m\u001b[0mn\u001b[0m\u001b[1;33m,\u001b[0m\u001b[0mchildDistance\u001b[0m\u001b[1;33m=\u001b[0m\u001b[0mn\u001b[0m\u001b[1;33m-\u001b[0m\u001b[0mk\u001b[0m\u001b[1;33m)\u001b[0m\u001b[1;33m\u001b[0m\u001b[1;33m\u001b[0m\u001b[0m\n\u001b[0m\u001b[0;32m     53\u001b[0m \u001b[1;33m\u001b[0m\u001b[0m\n\u001b[0;32m     54\u001b[0m         \u001b[0mG\u001b[0m\u001b[1;33m=\u001b[0m\u001b[0mnx\u001b[0m\u001b[1;33m.\u001b[0m\u001b[0mconvert_node_labels_to_integers\u001b[0m\u001b[1;33m(\u001b[0m\u001b[0mG_orig\u001b[0m\u001b[1;33m)\u001b[0m\u001b[1;33m\u001b[0m\u001b[1;33m\u001b[0m\u001b[0m\n",
      "\u001b[1;32mc:\\Users\\lcooper7\\Documents\\Python\\gene_functions.py\u001b[0m in \u001b[0;36moriginal_networks_NC_score\u001b[1;34m(G1, G2, G1_forest, G2_forest, DMCSteps, childDistance)\u001b[0m\n\u001b[0;32m    549\u001b[0m           \u001b[0mmatcher\u001b[0m \u001b[1;33m=\u001b[0m \u001b[0mtree_distance_loop\u001b[0m\u001b[1;33m(\u001b[0m\u001b[0mi\u001b[0m\u001b[1;33m,\u001b[0m\u001b[0mj\u001b[0m\u001b[1;33m,\u001b[0m\u001b[0mG1_forest\u001b[0m\u001b[1;33m,\u001b[0m\u001b[0mmaxTreeDepth\u001b[0m\u001b[1;33m)\u001b[0m\u001b[1;33m/\u001b[0m\u001b[0mmaxTreeDepth\u001b[0m\u001b[1;33m\u001b[0m\u001b[1;33m\u001b[0m\u001b[0m\n\u001b[0;32m    550\u001b[0m         \u001b[1;32melse\u001b[0m\u001b[1;33m:\u001b[0m\u001b[1;33m\u001b[0m\u001b[1;33m\u001b[0m\u001b[0m\n\u001b[1;32m--> 551\u001b[1;33m           \u001b[0mmatcher\u001b[0m \u001b[1;33m=\u001b[0m \u001b[0mclosest_neighbour_distance\u001b[0m\u001b[1;33m(\u001b[0m\u001b[0mi\u001b[0m\u001b[1;33m,\u001b[0m\u001b[0mj\u001b[0m\u001b[1;33m,\u001b[0m\u001b[0mG1_forest\u001b[0m\u001b[1;33m,\u001b[0m\u001b[0mG2_forest\u001b[0m\u001b[1;33m,\u001b[0m\u001b[0mmaxTreeDepth\u001b[0m\u001b[1;33m)\u001b[0m\u001b[1;33m/\u001b[0m\u001b[0mmaxTreeDepth\u001b[0m\u001b[1;33m\u001b[0m\u001b[1;33m\u001b[0m\u001b[0m\n\u001b[0m\u001b[0;32m    552\u001b[0m         \u001b[1;32mif\u001b[0m \u001b[0mmatcher\u001b[0m\u001b[1;33m<\u001b[0m\u001b[0mminMatcher\u001b[0m\u001b[1;33m:\u001b[0m\u001b[1;33m\u001b[0m\u001b[1;33m\u001b[0m\u001b[0m\n\u001b[0;32m    553\u001b[0m           \u001b[0mminMatcher\u001b[0m\u001b[1;33m=\u001b[0m\u001b[0mmatcher\u001b[0m\u001b[1;33m\u001b[0m\u001b[1;33m\u001b[0m\u001b[0m\n",
      "\u001b[1;32mc:\\Users\\lcooper7\\Documents\\Python\\gene_functions.py\u001b[0m in \u001b[0;36mclosest_neighbour_distance\u001b[1;34m(x, y, G1_forest, G2_forest, treeDepth)\u001b[0m\n\u001b[0;32m    445\u001b[0m     \u001b[1;32mif\u001b[0m \u001b[0mlen\u001b[0m\u001b[1;33m(\u001b[0m\u001b[0mlist\u001b[0m\u001b[1;33m(\u001b[0m\u001b[0mG1_forest\u001b[0m\u001b[1;33m.\u001b[0m\u001b[0mpredecessors\u001b[0m\u001b[1;33m(\u001b[0m\u001b[0mx\u001b[0m\u001b[1;33m)\u001b[0m\u001b[1;33m)\u001b[0m\u001b[1;33m)\u001b[0m\u001b[1;33m!=\u001b[0m\u001b[1;36m0\u001b[0m\u001b[1;33m:\u001b[0m\u001b[1;33m\u001b[0m\u001b[1;33m\u001b[0m\u001b[0m\n\u001b[0;32m    446\u001b[0m       \u001b[0mxAnc\u001b[0m \u001b[1;33m=\u001b[0m \u001b[0mlist\u001b[0m\u001b[1;33m(\u001b[0m\u001b[0mG1_forest\u001b[0m\u001b[1;33m.\u001b[0m\u001b[0mpredecessors\u001b[0m\u001b[1;33m(\u001b[0m\u001b[0mx\u001b[0m\u001b[1;33m)\u001b[0m\u001b[1;33m)\u001b[0m\u001b[1;33m[\u001b[0m\u001b[1;36m0\u001b[0m\u001b[1;33m]\u001b[0m\u001b[1;33m\u001b[0m\u001b[1;33m\u001b[0m\u001b[0m\n\u001b[1;32m--> 447\u001b[1;33m       \u001b[0mG1_distance\u001b[0m \u001b[1;33m=\u001b[0m \u001b[0mG1_distance\u001b[0m\u001b[1;33m+\u001b[0m \u001b[0mint\u001b[0m\u001b[1;33m(\u001b[0m\u001b[0mG1_forest\u001b[0m\u001b[1;33m[\u001b[0m\u001b[0mxAnc\u001b[0m\u001b[1;33m]\u001b[0m\u001b[1;33m[\u001b[0m\u001b[0mx\u001b[0m\u001b[1;33m]\u001b[0m\u001b[1;33m[\u001b[0m\u001b[1;34m'weight'\u001b[0m\u001b[1;33m]\u001b[0m\u001b[1;33m)\u001b[0m\u001b[1;33m\u001b[0m\u001b[1;33m\u001b[0m\u001b[0m\n\u001b[0m\u001b[0;32m    448\u001b[0m       \u001b[1;32mfor\u001b[0m \u001b[0mj\u001b[0m \u001b[1;32min\u001b[0m \u001b[0mG1_forest\u001b[0m\u001b[1;33m.\u001b[0m\u001b[0msuccessors\u001b[0m\u001b[1;33m(\u001b[0m\u001b[0mxAnc\u001b[0m\u001b[1;33m)\u001b[0m\u001b[1;33m:\u001b[0m\u001b[1;33m\u001b[0m\u001b[1;33m\u001b[0m\u001b[0m\n\u001b[0;32m    449\u001b[0m         \u001b[1;32mif\u001b[0m \u001b[1;32mnot\u001b[0m \u001b[0mancestorFound\u001b[0m\u001b[1;33m:\u001b[0m\u001b[1;33m\u001b[0m\u001b[1;33m\u001b[0m\u001b[0m\n",
      "\u001b[1;32m~\\AppData\\Local\\Programs\\Python\\Python39\\lib\\site-packages\\networkx\\classes\\graph.py\u001b[0m in \u001b[0;36m__getitem__\u001b[1;34m(self, n)\u001b[0m\n\u001b[0;32m    474\u001b[0m         \u001b[0mAtlasView\u001b[0m\u001b[1;33m(\u001b[0m\u001b[1;33m{\u001b[0m\u001b[1;36m1\u001b[0m\u001b[1;33m:\u001b[0m \u001b[1;33m{\u001b[0m\u001b[1;33m}\u001b[0m\u001b[1;33m}\u001b[0m\u001b[1;33m)\u001b[0m\u001b[1;33m\u001b[0m\u001b[1;33m\u001b[0m\u001b[0m\n\u001b[0;32m    475\u001b[0m         \"\"\"\n\u001b[1;32m--> 476\u001b[1;33m         \u001b[1;32mreturn\u001b[0m \u001b[0mself\u001b[0m\u001b[1;33m.\u001b[0m\u001b[0madj\u001b[0m\u001b[1;33m[\u001b[0m\u001b[0mn\u001b[0m\u001b[1;33m]\u001b[0m\u001b[1;33m\u001b[0m\u001b[1;33m\u001b[0m\u001b[0m\n\u001b[0m\u001b[0;32m    477\u001b[0m \u001b[1;33m\u001b[0m\u001b[0m\n\u001b[0;32m    478\u001b[0m     \u001b[1;32mdef\u001b[0m \u001b[0madd_node\u001b[0m\u001b[1;33m(\u001b[0m\u001b[0mself\u001b[0m\u001b[1;33m,\u001b[0m \u001b[0mnode_for_adding\u001b[0m\u001b[1;33m,\u001b[0m \u001b[1;33m**\u001b[0m\u001b[0mattr\u001b[0m\u001b[1;33m)\u001b[0m\u001b[1;33m:\u001b[0m\u001b[1;33m\u001b[0m\u001b[1;33m\u001b[0m\u001b[0m\n",
      "\u001b[1;32m~\\AppData\\Local\\Programs\\Python\\Python39\\lib\\site-packages\\networkx\\classes\\digraph.py\u001b[0m in \u001b[0;36madj\u001b[1;34m(self)\u001b[0m\n\u001b[0;32m    338\u001b[0m         \u001b[0mFor\u001b[0m \u001b[0mdirected\u001b[0m \u001b[0mgraphs\u001b[0m\u001b[1;33m,\u001b[0m\u001b[0;31m \u001b[0m\u001b[0;31m`\u001b[0m\u001b[0mG\u001b[0m\u001b[1;33m.\u001b[0m\u001b[0madj\u001b[0m\u001b[0;31m`\u001b[0m \u001b[0mholds\u001b[0m \u001b[0moutgoing\u001b[0m \u001b[1;33m(\u001b[0m\u001b[0msuccessor\u001b[0m\u001b[1;33m)\u001b[0m \u001b[0minfo\u001b[0m\u001b[1;33m.\u001b[0m\u001b[1;33m\u001b[0m\u001b[1;33m\u001b[0m\u001b[0m\n\u001b[0;32m    339\u001b[0m         \"\"\"\n\u001b[1;32m--> 340\u001b[1;33m         \u001b[1;32mreturn\u001b[0m \u001b[0mAdjacencyView\u001b[0m\u001b[1;33m(\u001b[0m\u001b[0mself\u001b[0m\u001b[1;33m.\u001b[0m\u001b[0m_succ\u001b[0m\u001b[1;33m)\u001b[0m\u001b[1;33m\u001b[0m\u001b[1;33m\u001b[0m\u001b[0m\n\u001b[0m\u001b[0;32m    341\u001b[0m \u001b[1;33m\u001b[0m\u001b[0m\n\u001b[0;32m    342\u001b[0m     \u001b[1;33m@\u001b[0m\u001b[0mproperty\u001b[0m\u001b[1;33m\u001b[0m\u001b[1;33m\u001b[0m\u001b[0m\n",
      "\u001b[1;31mKeyboardInterrupt\u001b[0m: "
     ]
    }
   ],
   "metadata": {}
  },
  {
   "cell_type": "code",
   "execution_count": null,
   "source": [],
   "outputs": [],
   "metadata": {}
  }
 ],
 "metadata": {
  "orig_nbformat": 4,
  "language_info": {
   "name": "python",
   "version": "3.9.6",
   "mimetype": "text/x-python",
   "codemirror_mode": {
    "name": "ipython",
    "version": 3
   },
   "pygments_lexer": "ipython3",
   "nbconvert_exporter": "python",
   "file_extension": ".py"
  },
  "kernelspec": {
   "name": "python3",
   "display_name": "Python 3.9.6 64-bit"
  },
  "interpreter": {
   "hash": "43eb6fc8bd24e6cba690ba8c40db98033fb7d43e018fbf28866d3e7730f6291f"
  }
 },
 "nbformat": 4,
 "nbformat_minor": 2
}